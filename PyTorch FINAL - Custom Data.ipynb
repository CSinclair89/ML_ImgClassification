{
 "cells": [
  {
   "cell_type": "code",
   "execution_count": 1,
   "id": "ddfd9567-a26d-4bd9-857a-82fa9fb1bbc3",
   "metadata": {},
   "outputs": [],
   "source": [
    "import torch\n",
    "import torch.nn as nn\n",
    "import torch.optim as optim\n",
    "from torch.utils.data import Dataset, DataLoader\n",
    "import torchvision.transforms as transforms\n",
    "from torchvision.datasets import ImageFolder\n",
    "import timm\n",
    "\n",
    "import matplotlib.pyplot as plt\n",
    "import pandas as pd\n",
    "import numpy as np"
   ]
  },
  {
   "cell_type": "code",
   "execution_count": 2,
   "id": "d910d76c-aeac-48c4-86a1-70561d383474",
   "metadata": {},
   "outputs": [],
   "source": [
    "# Create data directory paths\n",
    "training_path = \"data/custom/train\"\n",
    "testing_path = \"data/custom/test\""
   ]
  },
  {
   "cell_type": "code",
   "execution_count": 3,
   "id": "f6df3231-3ef9-4985-b0a9-5d609339723d",
   "metadata": {},
   "outputs": [],
   "source": [
    "# Create dataset class for monitoring preprocessing\n",
    "class MainDataset(Dataset):\n",
    "    def __init__(self, data_dir, transform = None):\n",
    "        self.data = ImageFolder(data_dir, transform = transform)\n",
    "    def __len__(self):\n",
    "        return len(self.data)\n",
    "    def __getitem__(self, index):\n",
    "        return self.data[index]\n",
    "        \n",
    "    @property\n",
    "    def classes(self):\n",
    "        return self.data.classes"
   ]
  },
  {
   "cell_type": "code",
   "execution_count": 4,
   "id": "b53aaea7-fd8f-44bf-a400-330f872328df",
   "metadata": {},
   "outputs": [],
   "source": [
    "# Confirm data loads properly\n",
    "dataset = MainDataset(data_dir = training_path)"
   ]
  },
  {
   "cell_type": "code",
   "execution_count": 5,
   "id": "3352723f-63f9-4842-9dff-e16216d3f4b8",
   "metadata": {},
   "outputs": [
    {
     "data": {
      "text/plain": [
       "240"
      ]
     },
     "execution_count": 5,
     "metadata": {},
     "output_type": "execute_result"
    }
   ],
   "source": [
    "len(dataset)"
   ]
  },
  {
   "cell_type": "code",
   "execution_count": 6,
   "id": "7ac866ad-7368-4c76-9212-d3875d9aec5a",
   "metadata": {},
   "outputs": [
    {
     "data": {
      "image/jpeg": "[encoded data removed]",
      "image/png": "[encoded data removed]",
      "text/plain": [
       "<PIL.Image.Image image mode=RGB size=200x200>"
      ]
     },
     "execution_count": 6,
     "metadata": {},
     "output_type": "execute_result"
    }
   ],
   "source": [
    "dataset[0]\n",
    "image, label = dataset[115]\n",
    "image"
   ]
  },
  {
   "cell_type": "code",
   "execution_count": 7,
   "id": "e4c4a40f-ef98-4a41-8562-fd00101440e2",
   "metadata": {
    "scrolled": true
   },
   "outputs": [
    {
     "name": "stdout",
     "output_type": "stream",
     "text": [
      "{0: 'oval', 1: 'rectangle', 2: 'stickman', 3: 'triangle'}\n"
     ]
    }
   ],
   "source": [
    "# Create dictionary for classes to associate images with\n",
    "target_to_class = {value: key for key, value in ImageFolder(training_path).class_to_idx.items()}\n",
    "print(target_to_class)"
   ]
  },
  {
   "cell_type": "code",
   "execution_count": 8,
   "id": "8db7b327-7629-4aba-941f-6c121cab558f",
   "metadata": {},
   "outputs": [],
   "source": [
    "# Create image transforms to use in ImageFolder class (could have done this earlier but wanted to test first)\n",
    "transform = transforms.Compose([\n",
    "    transforms.Resize((200, 200)),\n",
    "    transforms.ToTensor()\n",
    "])"
   ]
  },
  {
   "cell_type": "code",
   "execution_count": 9,
   "id": "371e82c4-7dba-4ec3-b4fc-bb9400a44ba4",
   "metadata": {},
   "outputs": [],
   "source": [
    "# Apply image transforms to data\n",
    "dataset = MainDataset(data_dir = training_path, transform = transform)"
   ]
  },
  {
   "cell_type": "code",
   "execution_count": 10,
   "id": "4305dd52-a166-4dac-8104-75140a627f01",
   "metadata": {},
   "outputs": [
    {
     "data": {
      "text/plain": [
       "torch.Size([3, 200, 200])"
      ]
     },
     "execution_count": 10,
     "metadata": {},
     "output_type": "execute_result"
    }
   ],
   "source": [
    "image, label = dataset[25]\n",
    "image.shape"
   ]
  },
  {
   "cell_type": "code",
   "execution_count": 11,
   "id": "3507ab6f-9268-40dd-ac6b-c137d4978294",
   "metadata": {},
   "outputs": [],
   "source": [
    "# Create data loader out of dataset\n",
    "dataloader = DataLoader(dataset, \n",
    "                        batch_size = 32, \n",
    "                        shuffle = True)"
   ]
  },
  {
   "cell_type": "code",
   "execution_count": 12,
   "id": "25bd48fd-a76a-4958-aef4-3ad7bbf9ff01",
   "metadata": {},
   "outputs": [
    {
     "name": "stdout",
     "output_type": "stream",
     "text": [
      "torch.Size([32, 3, 200, 200])\n",
      "torch.Size([32])\n"
     ]
    }
   ],
   "source": [
    "# Confirm data loader is working properly by checking shape and \n",
    "# label order (should shuffle everytime code is run)\n",
    "for images, labels in dataloader:\n",
    "    break\n",
    "\n",
    "print(images.shape)\n",
    "print(labels.shape)"
   ]
  },
  {
   "cell_type": "code",
   "execution_count": 13,
   "id": "5ade3341-22b8-499c-b1f2-9abfa8b9a3dd",
   "metadata": {},
   "outputs": [
    {
     "data": {
      "text/plain": [
       "tensor([2, 0, 2, 3, 2, 0, 3, 1, 2, 2, 2, 1, 2, 0, 1, 0, 0, 1, 3, 0, 2, 3, 3, 2,\n",
       "        0, 1, 2, 3, 3, 1, 0, 3])"
      ]
     },
     "execution_count": 13,
     "metadata": {},
     "output_type": "execute_result"
    }
   ],
   "source": [
    "labels"
   ]
  },
  {
   "cell_type": "code",
   "execution_count": 14,
   "id": "116c064c-5eff-42fc-addc-0b7f5edd2089",
   "metadata": {},
   "outputs": [],
   "source": [
    "# Create the model\n",
    "class Classifier(nn.Module):\n",
    "    def __init__(self, num_classes = 4):\n",
    "        super(Classifier, self).__init__()\n",
    "        \n",
    "        # Defining parts of the model\n",
    "        self.base_model = timm.create_model(\"efficientnet_b0\", pretrained = False)\n",
    "        self.features = nn.Sequential(*list(self.base_model.children())[:-1])\n",
    "        \n",
    "        enet_out_size = 1280\n",
    "        \n",
    "        # Make a classifier\n",
    "        self.classifier = nn.Linear(enet_out_size, num_classes)\n",
    "        \n",
    "    def forward(self, x):\n",
    "\n",
    "        # Connect these parts and return output\n",
    "        x = self.features(x)\n",
    "        output = self.classifier(x)\n",
    "        return output"
   ]
  },
  {
   "cell_type": "code",
   "execution_count": 15,
   "id": "723325b4-363c-490d-8e59-09f314504b89",
   "metadata": {},
   "outputs": [
    {
     "name": "stdout",
     "output_type": "stream",
     "text": [
      "Classifier(\n",
      "  (base_model): EfficientNet(\n",
      "    (conv_stem): Conv2d(3, 32, kernel_size=(3, 3), stride=(2, 2), padding=(1, 1), bias=False)\n",
      "    (bn1): BatchNormAct2d(\n",
      "      32, eps=1e-05, momentum=0.1, affine=True, track_running_stats=True\n",
      "      (drop): Identity()\n",
      "      (act): SiLU(inplace=True)\n",
      "    )\n",
      "    (blocks): Sequential(\n",
      "      (0): Sequential(\n",
      "        (0): DepthwiseSeparableConv(\n",
      "          (conv_dw): Conv2d(32, 32, kernel_size=(3, 3), stride=(1, 1), padding=(1, 1), groups=32, bias=False)\n",
      "     \n"
     ]
    }
   ],
   "source": [
    "model = Classifier(num_classes = 4)\n",
    "print(str(model)[:500])"
   ]
  },
  {
   "cell_type": "code",
   "execution_count": 16,
   "id": "0f1bc111-a00e-4c0f-86c1-5f071dd60fa7",
   "metadata": {},
   "outputs": [
    {
     "data": {
      "text/plain": [
       "torch.Size([32, 4])"
      ]
     },
     "execution_count": 16,
     "metadata": {},
     "output_type": "execute_result"
    }
   ],
   "source": [
    "example_out = model(images)\n",
    "example_out.shape"
   ]
  },
  {
   "cell_type": "code",
   "execution_count": 17,
   "id": "d7065f03-2610-49c2-8265-b154f8be0b5c",
   "metadata": {},
   "outputs": [],
   "source": [
    "# Create loss function and optimizer\n",
    "criterion = nn.CrossEntropyLoss()\n",
    "optimizer = optim.Adam(model.parameters(), lr = 0.001)"
   ]
  },
  {
   "cell_type": "code",
   "execution_count": 18,
   "id": "c99bd293-0c97-476d-bd37-e0892b6cbc92",
   "metadata": {},
   "outputs": [
    {
     "data": {
      "text/plain": [
       "tensor(1.4099, grad_fn=<NllLossBackward0>)"
      ]
     },
     "execution_count": 18,
     "metadata": {},
     "output_type": "execute_result"
    }
   ],
   "source": [
    "criterion(example_out, labels)"
   ]
  },
  {
   "cell_type": "code",
   "execution_count": 19,
   "id": "8378db73-f606-47f5-97b2-85f0f9a7254b",
   "metadata": {},
   "outputs": [],
   "source": [
    "# Create training/validation datasets\n",
    "\n",
    "transform = transforms.Compose([\n",
    "    transforms.Resize((200, 200)),\n",
    "    transforms.ToTensor(),\n",
    "])\n",
    "\n",
    "train_folder = \"data/custom/train\"\n",
    "val_folder = \"data/custom/test\"\n",
    "\n",
    "train_dataset = MainDataset(train_folder, transform = transform)\n",
    "val_dataset = MainDataset(val_folder, transform = transform)\n",
    "\n",
    "train_loader = DataLoader(train_dataset, batch_size = 32, shuffle = True)\n",
    "val_loader = DataLoader(val_dataset, batch_size = 32, shuffle = False)"
   ]
  },
  {
   "cell_type": "code",
   "execution_count": 20,
   "id": "390b0978-1b52-4c86-b768-36cab92995cf",
   "metadata": {},
   "outputs": [
    {
     "name": "stdout",
     "output_type": "stream",
     "text": [
      "Epoch 1 / 15 - Train loss: 1.45689, Validation loss: 1.43607\n",
      "Training Accuracy: 0.26667, Validation accuracy: 0.25\n",
      "Epoch 2 / 15 - Train loss: 1.09889, Validation loss: 1.55074\n",
      "Training Accuracy: 0.50833, Validation accuracy: 0.25\n",
      "Epoch 3 / 15 - Train loss: 0.66871, Validation loss: 1.68067\n",
      "Training Accuracy: 0.76667, Validation accuracy: 0.25\n",
      "Epoch 4 / 15 - Train loss: 0.29128, Validation loss: 1.76591\n",
      "Training Accuracy: 0.90833, Validation accuracy: 0.25\n",
      "Epoch 5 / 15 - Train loss: 0.15474, Validation loss: 1.8877\n",
      "Training Accuracy: 0.95417, Validation accuracy: 0.25\n",
      "Epoch 6 / 15 - Train loss: 0.18998, Validation loss: 2.74727\n",
      "Training Accuracy: 0.9375, Validation accuracy: 0.35\n",
      "Epoch 7 / 15 - Train loss: 0.12711, Validation loss: 1.49223\n",
      "Training Accuracy: 0.95833, Validation accuracy: 0.4\n",
      "Epoch 8 / 15 - Train loss: 0.16279, Validation loss: 3.74603\n",
      "Training Accuracy: 0.95417, Validation accuracy: 0.25\n",
      "Epoch 9 / 15 - Train loss: 0.19374, Validation loss: 10.46673\n",
      "Training Accuracy: 0.93333, Validation accuracy: 0.3\n",
      "Epoch 10 / 15 - Train loss: 0.20391, Validation loss: 6.66679\n",
      "Training Accuracy: 0.93333, Validation accuracy: 0.4\n",
      "Epoch 11 / 15 - Train loss: 0.26961, Validation loss: 9.15677\n",
      "Training Accuracy: 0.91667, Validation accuracy: 0.25\n",
      "Epoch 12 / 15 - Train loss: 0.19987, Validation loss: 19.91563\n",
      "Training Accuracy: 0.94583, Validation accuracy: 0.25\n",
      "Epoch 13 / 15 - Train loss: 0.34699, Validation loss: 48.24471\n",
      "Training Accuracy: 0.89583, Validation accuracy: 0.3\n",
      "Epoch 14 / 15 - Train loss: 0.211, Validation loss: 12.81551\n",
      "Training Accuracy: 0.925, Validation accuracy: 0.25\n",
      "Epoch 15 / 15 - Train loss: 0.08618, Validation loss: 4.8898\n",
      "Training Accuracy: 0.97917, Validation accuracy: 0.35\n"
     ]
    }
   ],
   "source": [
    "# Create training loop\n",
    "num_epoch = 15\n",
    "train_losses, val_losses, train_accuracy, val_accuracy = [], [], [], []\n",
    "model = Classifier(num_classes = 4)\n",
    "\n",
    "criterion = nn.CrossEntropyLoss()\n",
    "optimizer = optim.Adam(model.parameters(), lr = 0.001)\n",
    "\n",
    "for epoch in range(num_epoch):\n",
    "    # Set model to train\n",
    "    model.train()\n",
    "    running_loss = 0.0\n",
    "    train_n_correct = 0\n",
    "    train_n_total = 0\n",
    "\n",
    "    # Loop through training data loader\n",
    "    for images, labels in train_loader:\n",
    "        optimizer.zero_grad()\n",
    "        outputs = model(images)\n",
    "        loss = criterion(outputs, labels)\n",
    "        loss.backward()\n",
    "        optimizer.step()\n",
    "        running_loss += loss.item() * labels.size(0)\n",
    "\n",
    "        _, train_predicted = torch.max(outputs.data, 1)\n",
    "        train_n_total += labels.size(0)\n",
    "        train_n_correct += (train_predicted == labels).sum().item()\n",
    "\n",
    "    train_loss = round(running_loss / len(train_loader.dataset), 5)\n",
    "    train_losses.append(train_loss)\n",
    "    train_acc = round(train_n_correct / len(train_loader.dataset), 5)\n",
    "    train_accuracy.append(train_acc)\n",
    "\n",
    "    # Validation phase\n",
    "    model.eval()\n",
    "    running_loss = 0.0\n",
    "    val_n_correct = 0\n",
    "    val_n_total = 0\n",
    "    with torch.no_grad():\n",
    "        for images, labels in val_loader:\n",
    "            outputs = model(images)\n",
    "            loss = criterion(outputs, labels)\n",
    "            running_loss += loss.item() * labels.size(0)\n",
    "            \n",
    "            _, val_predicted = torch.max(outputs.data, 1)\n",
    "            val_n_total += labels.size(0)\n",
    "            val_n_correct += (val_predicted == labels).sum().item()\n",
    "        \n",
    "        val_loss = round(running_loss / len(val_loader.dataset), 5)\n",
    "        val_losses.append(val_loss)\n",
    "        val_acc = round(val_n_correct / len(val_loader.dataset), 5)\n",
    "        val_accuracy.append(val_acc)\n",
    "\n",
    "    # Print epoch stats\n",
    "    print(f\"Epoch {epoch + 1} / {num_epoch} - Train loss: {train_loss}, Validation loss: {val_loss}\")\n",
    "    print(f\"Training Accuracy: {train_acc}, Validation accuracy: {val_acc}\")"
   ]
  },
  {
   "cell_type": "code",
   "execution_count": 37,
   "id": "407d766a-4372-4eb4-889f-75e4d9ab0138",
   "metadata": {},
   "outputs": [
    {
     "data": {
      "image/png": "[encoded data removed]",
      "text/plain": [
       "<Figure size 800x800 with 2 Axes>"
      ]
     },
     "metadata": {},
     "output_type": "display_data"
    }
   ],
   "source": [
    "# Plot evaluation results\n",
    "plt.figure(figsize = (8, 8))\n",
    "\n",
    "plt.subplot(1, 2, 1)\n",
    "plt.plot(train_accuracy, label = \"Training Accuracy\")\n",
    "plt.plot(val_accuracy, label = \"Validation Accuracy\")\n",
    "plt.legend(loc = \"upper left\")\n",
    "plt.title(\"Training and Validation Accuracy\")\n",
    "\n",
    "plt.subplot(1, 2, 2)\n",
    "plt.plot(train_losses, label = \"Training Losses\")\n",
    "plt.plot(val_losses, label = \"Validation Losses\")\n",
    "plt.legend(loc = \"upper left\")\n",
    "plt.title(\"Training and Validation Losses\")\n",
    "\n",
    "plt.show()"
   ]
  },
  {
   "cell_type": "code",
   "execution_count": null,
   "id": "ff05a0b0-ab49-49ac-be2b-78423adcee75",
   "metadata": {},
   "outputs": [],
   "source": []
  },
  {
   "cell_type": "code",
   "execution_count": null,
   "id": "494cac3b-cf24-4108-b6aa-76d27d7db842",
   "metadata": {},
   "outputs": [],
   "source": []
  },
  {
   "cell_type": "code",
   "execution_count": null,
   "id": "60ed850d-bbf1-430e-8c44-9911cf143134",
   "metadata": {},
   "outputs": [],
   "source": []
  }
 ],
 "metadata": {
  "kernelspec": {
   "display_name": "Python 3 (ipykernel)",
   "language": "python",
   "name": "python3"
  },
  "language_info": {
   "codemirror_mode": {
    "name": "ipython",
    "version": 3
   },
   "file_extension": ".py",
   "mimetype": "text/x-python",
   "name": "python",
   "nbconvert_exporter": "python",
   "pygments_lexer": "ipython3",
   "version": "3.8.15"
  }
 },
 "nbformat": 4,
 "nbformat_minor": 5
}
